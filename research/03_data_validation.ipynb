{
 "cells": [
  {
   "cell_type": "code",
   "execution_count": 1,
   "metadata": {},
   "outputs": [],
   "source": [
    "import os\n",
    "os.chdir('../')"
   ]
  },
  {
   "cell_type": "code",
   "execution_count": 2,
   "metadata": {},
   "outputs": [
    {
     "data": {
      "text/plain": [
       "'c:\\\\Users\\\\asbpi\\\\Desktop\\\\ASB\\\\Data_Science\\\\Projects\\\\MY Projects\\\\Stroke-Risk-Prediction'"
      ]
     },
     "execution_count": 2,
     "metadata": {},
     "output_type": "execute_result"
    }
   ],
   "source": [
    "pwd"
   ]
  },
  {
   "cell_type": "code",
   "execution_count": 3,
   "metadata": {},
   "outputs": [],
   "source": [
    "# Entity"
   ]
  },
  {
   "cell_type": "code",
   "execution_count": 4,
   "metadata": {},
   "outputs": [],
   "source": [
    "from dataclasses import dataclass\n",
    "from pathlib import Path\n",
    "\n",
    "\n",
    "@dataclass(frozen=True)\n",
    "class DataValidationConfig:\n",
    "    root_dir: Path\n",
    "    data_dir: Path\n",
    "    status_file: str\n",
    "    all_schema: dict"
   ]
  },
  {
   "cell_type": "code",
   "execution_count": 5,
   "metadata": {},
   "outputs": [],
   "source": [
    "# Configuration Manager"
   ]
  },
  {
   "cell_type": "code",
   "execution_count": 6,
   "metadata": {},
   "outputs": [],
   "source": [
    "from stroke_risk.constants import *\n",
    "from stroke_risk.utils.common import read_yaml, create_directories"
   ]
  },
  {
   "cell_type": "code",
   "execution_count": 7,
   "metadata": {},
   "outputs": [],
   "source": [
    "class ConfigurationManager:\n",
    "    def __init__(\n",
    "        self,\n",
    "        config_filepath = CONFIG_FILE_PATH,\n",
    "        params_filepath = PARAMS_FILE_PATH,\n",
    "        schema_filepath = SCHEMA_FILE_PATH):\n",
    "\n",
    "        self.config = read_yaml(config_filepath)\n",
    "        self.params = read_yaml(params_filepath)\n",
    "        self.schema = read_yaml(schema_filepath)\n",
    "\n",
    "        create_directories([self.config.artifacts_root])\n",
    "\n",
    "\n",
    "    \n",
    "    def get_data_validation_config(self) -> DataValidationConfig:\n",
    "        config = self.config.data_validation\n",
    "        schema = self.schema.COLUMNS\n",
    "\n",
    "        create_directories([config.root_dir])\n",
    "\n",
    "        data_validation_config = DataValidationConfig(\n",
    "            root_dir=config.root_dir,\n",
    "            status_file=config.status_file,\n",
    "            data_dir = config.data_dir,\n",
    "            all_schema=schema,\n",
    "        )\n",
    "\n",
    "        return data_validation_config"
   ]
  },
  {
   "cell_type": "code",
   "execution_count": 8,
   "metadata": {},
   "outputs": [],
   "source": [
    "# Components"
   ]
  },
  {
   "cell_type": "code",
   "execution_count": 9,
   "metadata": {},
   "outputs": [],
   "source": [
    "import os\n",
    "import pandas as pd\n",
    "from stroke_risk import logger"
   ]
  },
  {
   "cell_type": "code",
   "execution_count": 18,
   "metadata": {},
   "outputs": [],
   "source": [
    "class DataValiadtion:\n",
    "    def __init__(self, config: DataValidationConfig):\n",
    "        self.config = config\n",
    "\n",
    "\n",
    "    def validate_all_columns(self)-> bool:\n",
    "        try:\n",
    "            validation_status = None\n",
    "\n",
    "            data = pd.read_csv(self.config.data_dir)\n",
    "            all_cols = list(data.columns)\n",
    "\n",
    "            all_schema = self.config.all_schema.keys()\n",
    "\n",
    "            \n",
    "            for col in all_cols:\n",
    "                if col not in all_schema:\n",
    "                    validation_status = False\n",
    "                    with open(self.config.status_file, 'w') as f:\n",
    "                        f.write(f\"COLUMNS: {validation_status}\\n\")\n",
    "                else:\n",
    "                    validation_status = True\n",
    "                    with open(self.config.status_file, 'w') as f:\n",
    "                        f.write(f\"COLUMNS: {validation_status}\\n\")\n",
    "        except Exception as e:\n",
    "            raise e\n",
    "    \n",
    "\n",
    "    def validate_all_datatypes(self)-> bool:\n",
    "        try:\n",
    "            validation_status = None\n",
    "\n",
    "            data = pd.read_csv(self.config.data_dir)\n",
    "            all_cols = list(data.columns)\n",
    "            all_schema = self.config.all_schema\n",
    "\n",
    "            for col in all_cols:\n",
    "                if all_schema[col] != data[col].dtype.name:\n",
    "                    validation_status = False\n",
    "                    with open(self.config.status_file, 'a') as f:\n",
    "                        f.write(f\"{col}: {validation_status}\\n\")\n",
    "                    \n",
    "                    logger.info(f'{col} = {all_schema[col]}: {data[col].dtype.name}')\n",
    "                else:\n",
    "                    validation_status = True\n",
    "                    with open(self.config.status_file, 'a') as f:\n",
    "                        f.write(f\"{col}: {validation_status}\\n\")\n",
    "        except Exception as e:\n",
    "            raise e\n",
    "    \n",
    "\n",
    "    def check_validation(self)-> bool:\n",
    "        try:\n",
    "            with open(self.config.status_file, 'r') as f:\n",
    "                status = [stat.strip() for stat in f.readlines()]\n",
    "                f.close()\n",
    "\n",
    "            status = {key.strip(): value.strip().lower()=='true' for key,value in [stat.split(':') for stat in status]}\n",
    "\n",
    "            if all(status.values()):\n",
    "                logger.info('All Validation Passed')\n",
    "            else:\n",
    "                logger.info('Validation Failed')\n",
    "        except Exception as e:\n",
    "            raise e"
   ]
  },
  {
   "cell_type": "code",
   "execution_count": 11,
   "metadata": {},
   "outputs": [],
   "source": [
    "# Pipeline"
   ]
  },
  {
   "cell_type": "code",
   "execution_count": 23,
   "metadata": {},
   "outputs": [
    {
     "name": "stdout",
     "output_type": "stream",
     "text": [
      "[2023-12-25 20:27:04,370: INFO: common: yaml file: config\\config.yaml loaded successfully]\n",
      "[2023-12-25 20:27:04,374: INFO: common: yaml file: params.yaml loaded successfully]\n",
      "[2023-12-25 20:27:04,378: INFO: common: yaml file: schema.yaml loaded successfully]\n",
      "[2023-12-25 20:27:04,379: INFO: common: created directory at: artifacts]\n",
      "[2023-12-25 20:27:04,381: INFO: common: created directory at: artifacts/data_validation]\n",
      "[2023-12-25 20:27:04,437: INFO: 2033076008: All Validation Passed]\n"
     ]
    }
   ],
   "source": [
    "try:\n",
    "    config = ConfigurationManager()\n",
    "    data_validation_config = config.get_data_validation_config()\n",
    "    data_validation = DataValiadtion(config=data_validation_config)\n",
    "    data_validation.validate_all_columns()\n",
    "    data_validation.validate_all_datatypes()\n",
    "    data_validation.check_validation()\n",
    "except Exception as e:\n",
    "    raise e"
   ]
  }
 ],
 "metadata": {
  "kernelspec": {
   "display_name": "stroke",
   "language": "python",
   "name": "python3"
  },
  "language_info": {
   "codemirror_mode": {
    "name": "ipython",
    "version": 3
   },
   "file_extension": ".py",
   "mimetype": "text/x-python",
   "name": "python",
   "nbconvert_exporter": "python",
   "pygments_lexer": "ipython3",
   "version": "3.9.18"
  }
 },
 "nbformat": 4,
 "nbformat_minor": 2
}
