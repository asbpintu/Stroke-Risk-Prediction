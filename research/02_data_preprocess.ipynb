{
 "cells": [
  {
   "cell_type": "code",
   "execution_count": 1,
   "metadata": {},
   "outputs": [],
   "source": [
    "import os"
   ]
  },
  {
   "cell_type": "code",
   "execution_count": 2,
   "metadata": {},
   "outputs": [
    {
     "data": {
      "text/plain": [
       "'c:\\\\Users\\\\asbpi\\\\Desktop\\\\ASB\\\\Data_Science\\\\Projects\\\\MY Projects\\\\Stroke-Risk-Prediction\\\\research'"
      ]
     },
     "execution_count": 2,
     "metadata": {},
     "output_type": "execute_result"
    }
   ],
   "source": [
    "pwd"
   ]
  },
  {
   "cell_type": "code",
   "execution_count": 3,
   "metadata": {},
   "outputs": [],
   "source": [
    "os.chdir('../')"
   ]
  },
  {
   "cell_type": "code",
   "execution_count": 4,
   "metadata": {},
   "outputs": [
    {
     "data": {
      "text/plain": [
       "'c:\\\\Users\\\\asbpi\\\\Desktop\\\\ASB\\\\Data_Science\\\\Projects\\\\MY Projects\\\\Stroke-Risk-Prediction'"
      ]
     },
     "execution_count": 4,
     "metadata": {},
     "output_type": "execute_result"
    }
   ],
   "source": [
    "pwd"
   ]
  },
  {
   "cell_type": "code",
   "execution_count": 5,
   "metadata": {},
   "outputs": [],
   "source": [
    "# Entity"
   ]
  },
  {
   "cell_type": "code",
   "execution_count": 6,
   "metadata": {},
   "outputs": [],
   "source": [
    "from dataclasses import dataclass\n",
    "from pathlib import Path\n",
    "\n",
    "\n",
    "@dataclass(frozen=True)\n",
    "class DataPreprocessConfig:\n",
    "    root_dir: Path\n",
    "    data_dir: Path\n",
    "    dataset_name: Path\n",
    "    save_data_file: Path"
   ]
  },
  {
   "cell_type": "code",
   "execution_count": 7,
   "metadata": {},
   "outputs": [],
   "source": [
    "# Configuration Manager"
   ]
  },
  {
   "cell_type": "code",
   "execution_count": 8,
   "metadata": {},
   "outputs": [],
   "source": [
    "from stroke_risk.constants import *\n",
    "from stroke_risk.utils.common import read_yaml, create_directories"
   ]
  },
  {
   "cell_type": "code",
   "execution_count": 9,
   "metadata": {},
   "outputs": [],
   "source": [
    "class ConfigurationManager:\n",
    "    def __init__(\n",
    "        self,\n",
    "        config_filepath = CONFIG_FILE_PATH,\n",
    "        params_filepath = PARAMS_FILE_PATH,\n",
    "        schema_filepath = SCHEMA_FILE_PATH):\n",
    "\n",
    "        self.config = read_yaml(config_filepath)\n",
    "        self.params = read_yaml(params_filepath)\n",
    "        self.schema = read_yaml(schema_filepath)\n",
    "\n",
    "        create_directories([self.config.artifacts_root])\n",
    "\n",
    "\n",
    "    \n",
    "    def get_data_preprocess_config(self) -> DataPreprocessConfig:\n",
    "        config = self.config.data_preprocess\n",
    "\n",
    "        create_directories([config.root_dir])\n",
    "\n",
    "        data_preprocess_config = DataPreprocessConfig(\n",
    "            root_dir=config.root_dir,\n",
    "            data_dir=config.data_dir,\n",
    "            dataset_name=config.dataset_name,\n",
    "            save_data_file=config.save_data_file \n",
    "        )\n",
    "\n",
    "        return data_preprocess_config"
   ]
  },
  {
   "cell_type": "code",
   "execution_count": 10,
   "metadata": {},
   "outputs": [],
   "source": [
    "# Componants"
   ]
  },
  {
   "cell_type": "code",
   "execution_count": 11,
   "metadata": {},
   "outputs": [],
   "source": [
    "import pandas as pd\n",
    "import numpy as np\n",
    "from stroke_risk import logger"
   ]
  },
  {
   "cell_type": "code",
   "execution_count": 12,
   "metadata": {},
   "outputs": [],
   "source": [
    "class DataPreprocess:\n",
    "    def __init__(self, config: DataPreprocessConfig):\n",
    "        self.config = config\n",
    "\n",
    "\n",
    "    def preprocess(self):\n",
    "\n",
    "        data_dir=self.config.data_dir\n",
    "        dataset_name=self.config.dataset_name\n",
    "        save_data_file=self.config.save_data_file\n",
    "\n",
    "        data = pd.read_csv(Path(data_dir,dataset_name))\n",
    "\n",
    "        data.age = data.age.astype(np.int64)\n",
    "        cata_col = ['gender', 'ever_married', 'work_type', 'Residence_type', 'smoking_status']\n",
    "        data[cata_col] = data[cata_col].astype('category')\n",
    "        logger.info('Datatype Fixed')\n",
    "\n",
    "        data = data[data['gender'] != 'Other']\n",
    "        data['smoking_status'] = data['smoking_status'].replace('Unknown', 'formerly smoked')\n",
    "        data['work_type'] = data['work_type'].replace('children', 'Never_worked')\n",
    "        logger.info('Data Substituted')\n",
    "\n",
    "        data['age_bin'] = pd.cut(data['age'], bins=[0, 35, 50, 65, 75, np.inf], labels=['0-35', '36-50', '51-65', '65-75', '75+'])\n",
    "        data = data[~data.age_bin.isnull()]\n",
    "\n",
    "        data.loc[:,'gender_age']=data.gender.astype(str) + '_' + data.age_bin.astype(str)\n",
    "\n",
    "        logger.info('age-bin and gender-age created')\n",
    "\n",
    "        mean_bmi = data.groupby('gender_age')['bmi'].transform('mean')\n",
    "        data.loc[data['bmi'].isnull(), 'bmi'] = mean_bmi\n",
    "\n",
    "        logger.info('Null value in bmi imputed')\n",
    "\n",
    "        col_to_drop = ['id', 'age_bin', 'gender_age']\n",
    "        data = data.drop(columns=col_to_drop)\n",
    "\n",
    "        logger.info('Unnessary columns deleted')\n",
    "\n",
    "        data.to_csv(os.path.join(save_data_file),index = False)\n",
    "\n",
    "        logger.info(f'File saved in {save_data_file}')"
   ]
  },
  {
   "cell_type": "code",
   "execution_count": 13,
   "metadata": {},
   "outputs": [],
   "source": [
    "# Pipeline"
   ]
  },
  {
   "cell_type": "code",
   "execution_count": 14,
   "metadata": {},
   "outputs": [
    {
     "name": "stdout",
     "output_type": "stream",
     "text": [
      "[2023-12-23 20:36:13,367: INFO: common: yaml file: config\\config.yaml loaded successfully]\n",
      "[2023-12-23 20:36:13,370: INFO: common: yaml file: params.yaml loaded successfully]\n",
      "[2023-12-23 20:36:13,375: INFO: common: yaml file: schema.yaml loaded successfully]\n",
      "[2023-12-23 20:36:13,382: INFO: common: created directory at: artifacts]\n",
      "[2023-12-23 20:36:13,384: INFO: common: created directory at: artifacts/data_preprocess]\n",
      "[2023-12-23 20:36:13,406: INFO: 2889185664: Datatype Fixed]\n",
      "[2023-12-23 20:36:13,420: INFO: 2889185664: Data Substituted]\n",
      "[2023-12-23 20:36:13,433: INFO: 2889185664: age-bin and gender-age created]\n",
      "[2023-12-23 20:36:13,440: INFO: 2889185664: Null value in bmi imputed]\n",
      "[2023-12-23 20:36:13,443: INFO: 2889185664: Unnessary columns deleted]\n",
      "[2023-12-23 20:36:13,507: INFO: 2889185664: File saved in artifacts/data_preprocess/data.csv]\n"
     ]
    }
   ],
   "source": [
    "try:\n",
    "    config = ConfigurationManager()\n",
    "    data_preprocess_config = config.get_data_preprocess_config()\n",
    "    data_preprocess = DataPreprocess(config=data_preprocess_config)\n",
    "    data_preprocess.preprocess()\n",
    "except Exception as e:\n",
    "    raise e"
   ]
  }
 ],
 "metadata": {
  "kernelspec": {
   "display_name": "stroke",
   "language": "python",
   "name": "python3"
  },
  "language_info": {
   "codemirror_mode": {
    "name": "ipython",
    "version": 3
   },
   "file_extension": ".py",
   "mimetype": "text/x-python",
   "name": "python",
   "nbconvert_exporter": "python",
   "pygments_lexer": "ipython3",
   "version": "3.9.18"
  }
 },
 "nbformat": 4,
 "nbformat_minor": 2
}
