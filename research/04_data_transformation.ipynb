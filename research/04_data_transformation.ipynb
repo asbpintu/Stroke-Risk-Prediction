{
 "cells": [
  {
   "cell_type": "code",
   "execution_count": 2,
   "metadata": {},
   "outputs": [],
   "source": [
    "import os\n",
    "os.chdir('../')"
   ]
  },
  {
   "cell_type": "code",
   "execution_count": 3,
   "metadata": {},
   "outputs": [
    {
     "data": {
      "text/plain": [
       "'c:\\\\Users\\\\asbpi\\\\Desktop\\\\ASB\\\\Data_Science\\\\Projects\\\\MY Projects\\\\Stroke-Risk-Prediction'"
      ]
     },
     "execution_count": 3,
     "metadata": {},
     "output_type": "execute_result"
    }
   ],
   "source": [
    "pwd"
   ]
  },
  {
   "cell_type": "code",
   "execution_count": 3,
   "metadata": {},
   "outputs": [],
   "source": [
    "# Entity"
   ]
  },
  {
   "cell_type": "code",
   "execution_count": 4,
   "metadata": {},
   "outputs": [],
   "source": [
    "from dataclasses import dataclass\n",
    "from pathlib import Path\n",
    "\n",
    "\n",
    "@dataclass(frozen=True)\n",
    "class DataTransformationConfig:\n",
    "    root_dir: Path\n",
    "    data_file: Path"
   ]
  },
  {
   "cell_type": "code",
   "execution_count": 4,
   "metadata": {},
   "outputs": [],
   "source": [
    "# Configuration Manager"
   ]
  },
  {
   "cell_type": "code",
   "execution_count": 5,
   "metadata": {},
   "outputs": [],
   "source": [
    "from stroke_risk.constants import *\n",
    "from stroke_risk.utils.common import read_yaml, create_directories"
   ]
  },
  {
   "cell_type": "code",
   "execution_count": 6,
   "metadata": {},
   "outputs": [],
   "source": [
    "class ConfigurationManager:\n",
    "    def __init__(\n",
    "        self,\n",
    "        config_filepath = CONFIG_FILE_PATH,\n",
    "        params_filepath = PARAMS_FILE_PATH,\n",
    "        schema_filepath = SCHEMA_FILE_PATH):\n",
    "\n",
    "        self.config = read_yaml(config_filepath)\n",
    "        self.params = read_yaml(params_filepath)\n",
    "        self.schema = read_yaml(schema_filepath)\n",
    "\n",
    "        create_directories([self.config.artifacts_root])\n",
    "\n",
    "\n",
    "    \n",
    "    def get_data_transformation_config(self) -> DataTransformationConfig:\n",
    "        config = self.config.data_transformation\n",
    "\n",
    "        create_directories([config.root_dir])\n",
    "\n",
    "        data_transformation_config = DataTransformationConfig(\n",
    "            root_dir=config.root_dir,\n",
    "            data_file=config.data_file,\n",
    "        )\n",
    "\n",
    "        return data_transformation_config"
   ]
  },
  {
   "cell_type": "code",
   "execution_count": 5,
   "metadata": {},
   "outputs": [],
   "source": [
    "# Components"
   ]
  },
  {
   "cell_type": "code",
   "execution_count": 21,
   "metadata": {},
   "outputs": [],
   "source": [
    "import os\n",
    "from stroke_risk import logger\n",
    "from sklearn.preprocessing import LabelEncoder\n",
    "from sklearn.model_selection import train_test_split\n",
    "import pandas as pd"
   ]
  },
  {
   "cell_type": "code",
   "execution_count": 22,
   "metadata": {},
   "outputs": [],
   "source": [
    "class DataTransformation:\n",
    "    def __init__(self, config: DataTransformationConfig):\n",
    "        self.config = config\n",
    "\n",
    "    def encoding(self):\n",
    "        data= pd.read_csv(self.config.data_file)\n",
    "\n",
    "        label_encoder = LabelEncoder()\n",
    "        data['gender'] = label_encoder.fit_transform(data['gender']) # male=1, female=0\n",
    "        data['ever_married'] = label_encoder.fit_transform(data['ever_married']) # yes=1, no=0\n",
    "        data['Residence_type'] = label_encoder.fit_transform(data['Residence_type']) # urban=1, rural=0\n",
    "\n",
    "        data = pd.get_dummies(data, columns=['work_type', 'smoking_status'])\n",
    "        data.to_csv(os.path.join(self.config.root_dir, \"data.csv\"),index = False)\n",
    "        \n",
    "        logger.info('LabelEncoder & OnehotEncoder applied to Categorical Columns')\n",
    "        logger.info(f'Encoded data saved in {self.config.root_dir}/data.csv')\n",
    "\n",
    "\n",
    "    def train_test_spliting(self):\n",
    "        data = pd.read_csv(os.path.join(self.config.root_dir, \"data.csv\"))\n",
    "\n",
    "        train, test = train_test_split(data, test_size=0.2)\n",
    "\n",
    "        train.to_csv(os.path.join(self.config.root_dir, \"train.csv\"),index = False)\n",
    "        test.to_csv(os.path.join(self.config.root_dir, \"test.csv\"),index = False)\n",
    "\n",
    "        logger.info(\"Splited data into training and test sets\")\n",
    "        logger.info(f'train data shape - {train.shape}')\n",
    "        logger.info(f'test data shape - {test.shape}')"
   ]
  },
  {
   "cell_type": "code",
   "execution_count": 6,
   "metadata": {},
   "outputs": [],
   "source": [
    "# Pipeline"
   ]
  },
  {
   "cell_type": "code",
   "execution_count": 23,
   "metadata": {},
   "outputs": [
    {
     "name": "stdout",
     "output_type": "stream",
     "text": [
      "[2023-12-26 14:19:17,640: INFO: common: yaml file: config\\config.yaml loaded successfully]\n",
      "[2023-12-26 14:19:17,640: INFO: common: yaml file: params.yaml loaded successfully]\n",
      "[2023-12-26 14:19:17,648: INFO: common: yaml file: schema.yaml loaded successfully]\n",
      "[2023-12-26 14:19:17,648: INFO: common: created directory at: artifacts]\n",
      "[2023-12-26 14:19:17,648: INFO: common: created directory at: artifacts/data_transformation]\n",
      "[2023-12-26 14:19:17,685: INFO: 2359033959: LabelEncoder & OnehotEncoder applied to Categorical Columns]\n",
      "[2023-12-26 14:19:17,694: INFO: 2359033959: Encoded data saved in artifacts/data_transformation/data.csv]\n",
      "[2023-12-26 14:19:17,787: INFO: 2359033959: Splited data into training and test sets]\n",
      "[2023-12-26 14:19:17,787: INFO: 2359033959: train data shape - (4052, 16)]\n",
      "[2023-12-26 14:19:17,787: INFO: 2359033959: test data shape - (1014, 16)]\n"
     ]
    }
   ],
   "source": [
    "try:\n",
    "    config = ConfigurationManager()\n",
    "    data_transformation_config = config.get_data_transformation_config()\n",
    "    data_transformation = DataTransformation(config=data_transformation_config)\n",
    "    data_transformation.encoding()\n",
    "    data_transformation.train_test_spliting()\n",
    "except Exception as e:\n",
    "    raise e"
   ]
  }
 ],
 "metadata": {
  "kernelspec": {
   "display_name": "stroke",
   "language": "python",
   "name": "python3"
  },
  "language_info": {
   "codemirror_mode": {
    "name": "ipython",
    "version": 3
   },
   "file_extension": ".py",
   "mimetype": "text/x-python",
   "name": "python",
   "nbconvert_exporter": "python",
   "pygments_lexer": "ipython3",
   "version": "3.9.18"
  }
 },
 "nbformat": 4,
 "nbformat_minor": 2
}
